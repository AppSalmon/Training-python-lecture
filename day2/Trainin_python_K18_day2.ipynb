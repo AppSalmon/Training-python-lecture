{
 "cells": [
  {
   "cell_type": "markdown",
   "id": "1cd7a781",
   "metadata": {},
   "source": [
    "# Training Python K18 week 1 day 2"
   ]
  },
  {
   "cell_type": "markdown",
   "id": "e5d1085d",
   "metadata": {},
   "source": [
    "### Ôn tập bài cũ"
   ]
  },
  {
   "cell_type": "code",
   "execution_count": 1,
   "id": "f0bf1854",
   "metadata": {},
   "outputs": [
    {
     "name": "stdout",
     "output_type": "stream",
     "text": [
      "Nhập chiều cao của Bảo: 1\n",
      "Nhập cân nặng của Bảo: 1\n",
      "Nhập chiều cao của Hòa: 1\n",
      "Nhập cân nặng của Hòa: 1\n",
      "Bằng nhau\n"
     ]
    }
   ],
   "source": [
    "h_bao = int(input('Nhập chiều cao của Bảo: '))\n",
    "w_bao = int(input('Nhập cân nặng của Bảo: '))\n",
    "h_hoa = int(input('Nhập chiều cao của Hòa: '))\n",
    "w_hoa = int(input('Nhập cân nặng của Hòa: '))\n",
    "\n",
    "BMI_bao = w_bao / (h_bao ** 2)\n",
    "BMI_hoa = w_hoa / (h_hoa ** 2)\n",
    "\n",
    "if BMI_bao > BMI_hoa:\n",
    "    print(\"Bảo\")\n",
    "elif BMI_bao == BMI_hoa:\n",
    "    print(\"Bằng nhau\")\n",
    "else:\n",
    "    print(\"Hòa\")"
   ]
  },
  {
   "cell_type": "markdown",
   "id": "c5ef5a45",
   "metadata": {},
   "source": [
    "### Thông số end trong hàm print()"
   ]
  },
  {
   "cell_type": "code",
   "execution_count": 2,
   "id": "7c8f052e",
   "metadata": {},
   "outputs": [
    {
     "name": "stdout",
     "output_type": "stream",
     "text": [
      "Hello world!123\n"
     ]
    }
   ],
   "source": [
    "print(\"Hello world!\", end = \"\")\n",
    "print(123)"
   ]
  },
  {
   "cell_type": "markdown",
   "id": "d7dac0e1",
   "metadata": {},
   "source": [
    "### Hàm Len()"
   ]
  },
  {
   "cell_type": "code",
   "execution_count": 3,
   "id": "5a42d494",
   "metadata": {},
   "outputs": [
    {
     "data": {
      "text/plain": [
       "7"
      ]
     },
     "execution_count": 3,
     "metadata": {},
     "output_type": "execute_result"
    }
   ],
   "source": [
    "len('abc xyz')"
   ]
  },
  {
   "cell_type": "code",
   "execution_count": 4,
   "id": "499ec14a",
   "metadata": {},
   "outputs": [
    {
     "name": "stdout",
     "output_type": "stream",
     "text": [
      "3\n"
     ]
    }
   ],
   "source": [
    "print(len(str(123)))"
   ]
  },
  {
   "cell_type": "markdown",
   "id": "ead78717",
   "metadata": {},
   "source": [
    "### Type()"
   ]
  },
  {
   "cell_type": "code",
   "execution_count": 5,
   "id": "da9c24c2",
   "metadata": {},
   "outputs": [
    {
     "data": {
      "text/plain": [
       "str"
      ]
     },
     "execution_count": 5,
     "metadata": {},
     "output_type": "execute_result"
    }
   ],
   "source": [
    "type('aaaaa')"
   ]
  },
  {
   "cell_type": "code",
   "execution_count": 6,
   "id": "6f2f68d2",
   "metadata": {},
   "outputs": [
    {
     "data": {
      "text/plain": [
       "float"
      ]
     },
     "execution_count": 6,
     "metadata": {},
     "output_type": "execute_result"
    }
   ],
   "source": [
    "a = 2.5556646456\n",
    "type(a)"
   ]
  },
  {
   "cell_type": "markdown",
   "id": "4d41f559",
   "metadata": {},
   "source": [
    "### Title, upper, lower"
   ]
  },
  {
   "cell_type": "code",
   "execution_count": 7,
   "id": "2daf8b4d",
   "metadata": {},
   "outputs": [
    {
     "name": "stdout",
     "output_type": "stream",
     "text": [
      "HAPPY BIRTHDAY\n",
      "happy birthday\n",
      "Happy Birthday\n"
     ]
    }
   ],
   "source": [
    "text = \"HaPpy biRthday\"\n",
    "print(text.upper())\n",
    "print(text.lower())\n",
    "print(text.title())"
   ]
  },
  {
   "cell_type": "markdown",
   "id": "f3f0f48f",
   "metadata": {},
   "source": [
    "Bài tập: Nhập tên của người dùng và kiểm tra xem tên đó có bao nhiêu ký tự, sau đó viết hoa chữ cái đầu của tên và in ra tên và dùng thông số end để in số lượng kí tự:"
   ]
  },
  {
   "cell_type": "code",
   "execution_count": 8,
   "id": "54d9124a",
   "metadata": {},
   "outputs": [
    {
     "name": "stdout",
     "output_type": "stream",
     "text": [
      "Nhap ten: Salmon\n",
      "Salmon 6"
     ]
    }
   ],
   "source": [
    "a = input(\"Nhap ten: \")\n",
    "\n",
    "str_number_of_name = len(a) # Tìm số kí tự trong chuỗi a\n",
    "\n",
    "print(a.title(), end = \" \" + str(str_number_of_name)) # str(a) Ép a về kiểu string\n"
   ]
  },
  {
   "cell_type": "code",
   "execution_count": 9,
   "id": "c5a34e9d",
   "metadata": {},
   "outputs": [
    {
     "name": "stdout",
     "output_type": "stream",
     "text": [
      "<class 'int'>\n",
      "1234556677888999009\n"
     ]
    }
   ],
   "source": [
    "a = \"1234556677888999009\"\n",
    "a_int = int(a)\n",
    "print(type(a_int))\n",
    "print(a_int)"
   ]
  },
  {
   "cell_type": "code",
   "execution_count": 10,
   "id": "74fbeaaa",
   "metadata": {},
   "outputs": [
    {
     "name": "stdout",
     "output_type": "stream",
     "text": [
      "<class 'str'> 1.22222222\n",
      "1\n"
     ]
    }
   ],
   "source": [
    "floa = 1.22222222\n",
    "floa_str = str(floa)\n",
    "print(type(floa_str), floa)\n",
    "\n",
    "f_int = int(floa)\n",
    "print(f_int)"
   ]
  },
  {
   "cell_type": "markdown",
   "id": "28a5c8bf",
   "metadata": {},
   "source": [
    "### Round()"
   ]
  },
  {
   "cell_type": "code",
   "execution_count": 11,
   "id": "ee4a1131",
   "metadata": {},
   "outputs": [],
   "source": [
    "n = 1.2\n",
    "m = 1.7"
   ]
  },
  {
   "cell_type": "code",
   "execution_count": 12,
   "id": "9c60f41c",
   "metadata": {},
   "outputs": [
    {
     "data": {
      "text/plain": [
       "1"
      ]
     },
     "execution_count": 12,
     "metadata": {},
     "output_type": "execute_result"
    }
   ],
   "source": [
    "round(n)"
   ]
  },
  {
   "cell_type": "code",
   "execution_count": 13,
   "id": "94ff4d1d",
   "metadata": {},
   "outputs": [
    {
     "data": {
      "text/plain": [
       "2"
      ]
     },
     "execution_count": 13,
     "metadata": {},
     "output_type": "execute_result"
    }
   ],
   "source": [
    "round(m)"
   ]
  },
  {
   "cell_type": "code",
   "execution_count": 14,
   "id": "9142aba9",
   "metadata": {},
   "outputs": [
    {
     "data": {
      "text/plain": [
       "1.7"
      ]
     },
     "execution_count": 14,
     "metadata": {},
     "output_type": "execute_result"
    }
   ],
   "source": [
    "round(m, 3)"
   ]
  },
  {
   "cell_type": "code",
   "execution_count": 15,
   "id": "632099ba",
   "metadata": {},
   "outputs": [
    {
     "data": {
      "text/plain": [
       "1.346"
      ]
     },
     "execution_count": 15,
     "metadata": {},
     "output_type": "execute_result"
    }
   ],
   "source": [
    "p = 1.3455667\n",
    "round(p, 3)"
   ]
  },
  {
   "cell_type": "markdown",
   "id": "7842138f",
   "metadata": {},
   "source": [
    "### For"
   ]
  },
  {
   "cell_type": "code",
   "execution_count": 16,
   "id": "360bb1e4",
   "metadata": {},
   "outputs": [
    {
     "name": "stdout",
     "output_type": "stream",
     "text": [
      "1\n",
      "2\n",
      "3\n",
      "4\n",
      "5\n",
      "6\n",
      "7\n",
      "8\n",
      "9\n",
      "10\n"
     ]
    }
   ],
   "source": [
    "# Lặp từ 1 đến 10\n",
    "for i in range(1, 10+1, 1):\n",
    "    print(i)"
   ]
  },
  {
   "cell_type": "code",
   "execution_count": 17,
   "id": "83784e73",
   "metadata": {},
   "outputs": [
    {
     "name": "stdout",
     "output_type": "stream",
     "text": [
      "1\n",
      "3\n",
      "5\n",
      "7\n",
      "9\n"
     ]
    }
   ],
   "source": [
    "# Lặp từ 1 đến 10, mỗi lần += 2\n",
    "for i in range(1, 10+1, 2):\n",
    "    print(i)\n"
   ]
  },
  {
   "cell_type": "code",
   "execution_count": 18,
   "id": "5fdb804a",
   "metadata": {},
   "outputs": [
    {
     "name": "stdout",
     "output_type": "stream",
     "text": [
      "0\n",
      "1\n",
      "2\n",
      "3\n",
      "4\n"
     ]
    }
   ],
   "source": [
    "# Phổ biến: Lặp 5 lần\n",
    "# Hoặc lặp từ 0->4\n",
    "for i in range(5):\n",
    "    print(i)"
   ]
  },
  {
   "cell_type": "code",
   "execution_count": 19,
   "id": "8f31c622",
   "metadata": {},
   "outputs": [
    {
     "name": "stdout",
     "output_type": "stream",
     "text": [
      "In ra dòng này\n",
      "In ra dòng này\n",
      "In ra dòng này\n"
     ]
    }
   ],
   "source": [
    "for _ in range(3):\n",
    "    print(\"In ra dòng này\")"
   ]
  },
  {
   "cell_type": "code",
   "execution_count": 20,
   "id": "06b77053",
   "metadata": {},
   "outputs": [
    {
     "name": "stdout",
     "output_type": "stream",
     "text": [
      "1\n",
      "2\n",
      "3\n",
      "4\n"
     ]
    }
   ],
   "source": [
    "# Lặp từ 1 đến 4\n",
    "for i in range(1, 5):\n",
    "    print(i)"
   ]
  },
  {
   "cell_type": "markdown",
   "id": "05d62070",
   "metadata": {},
   "source": [
    "### Kiểm tra xem một số nhập từ bàn phím có phải số nguyên tố hay không?\n"
   ]
  },
  {
   "cell_type": "code",
   "execution_count": 21,
   "id": "494ac5f4",
   "metadata": {},
   "outputs": [
    {
     "name": "stdout",
     "output_type": "stream",
     "text": [
      "0  khong phai so nguyen to \n",
      "1  khong phai so nguyen to \n",
      "2  la so nguyen to\n",
      "3  la so nguyen to\n",
      "4  khong phai so nguyen to \n",
      "5  la so nguyen to\n",
      "6  khong phai so nguyen to \n",
      "7  la so nguyen to\n",
      "8  khong phai so nguyen to \n",
      "9  khong phai so nguyen to \n",
      "10  khong phai so nguyen to \n",
      "11  la so nguyen to\n",
      "12  khong phai so nguyen to \n",
      "13  la so nguyen to\n",
      "14  khong phai so nguyen to \n",
      "15  khong phai so nguyen to \n",
      "16  khong phai so nguyen to \n",
      "17  la so nguyen to\n",
      "18  khong phai so nguyen to \n",
      "19  la so nguyen to\n",
      "20  khong phai so nguyen to \n"
     ]
    }
   ],
   "source": [
    "for n in range(0, 21):\n",
    "    ok = 1\n",
    "    for i in range (2,int(n**0.5)+1):\n",
    "        if n % i == 0 :\n",
    "            ok = 0\n",
    "            break\n",
    "    if ok == 0 or n < 2 :\n",
    "        print(n,\" khong phai so nguyen to \")\n",
    "    else :\n",
    "        print(n,\" la so nguyen to\")\n"
   ]
  },
  {
   "cell_type": "code",
   "execution_count": null,
   "id": "757aaa56",
   "metadata": {},
   "outputs": [],
   "source": []
  },
  {
   "cell_type": "markdown",
   "id": "e48fde18",
   "metadata": {},
   "source": [
    "### Nhập hai số a, b nhiệm vụ của bạn là tìm 2 số nhỏ nhất trong khoảng từ a tới b vừa chia hết cho 2 và 3"
   ]
  },
  {
   "cell_type": "code",
   "execution_count": 35,
   "id": "ca943842",
   "metadata": {},
   "outputs": [
    {
     "name": "stdout",
     "output_type": "stream",
     "text": [
      "1\n",
      "20\n",
      "6, 12"
     ]
    }
   ],
   "source": [
    "a = int(input())\n",
    "b = int(input())\n",
    "\n",
    "count = 0 # Thuật toán lính canh\n",
    "\n",
    "for i in range (a, b + 1):\n",
    "    if i % 2 == 0 and i % 3 == 0:\n",
    "        count += 1\n",
    "        print(i, end = \"\")\n",
    "        \n",
    "        if count == 1:\n",
    "            print(', ', end = \"\")\n",
    "        \n",
    "    \n",
    "    if count == 2:\n",
    "        break\n",
    "    "
   ]
  },
  {
   "cell_type": "markdown",
   "id": "66c67e4b",
   "metadata": {},
   "source": [
    "### Một chương trình funny ứng dụng for, if else"
   ]
  },
  {
   "cell_type": "code",
   "execution_count": 56,
   "id": "8ead21fd",
   "metadata": {},
   "outputs": [
    {
     "name": "stdout",
     "output_type": "stream",
     "text": [
      "Nhập tên của bạn: AI club luôn welcome\n",
      "__**__***_****__********_**_***___*_*_____*_____________****________**\n",
      "_*_*_*_****_*____****__**_____*_**_*__*********_*_*_***__*_*_*__***___\n",
      "_**__*_****_**___*_***_***_*_**__**_*_***___**__*_*___********_*_*_***\n",
      "****_*___*___***_*__*__***____*_**_*_*_____*____*_**_*_____*_****____*\n",
      "                    ⭐               💖               \n",
      "                    ⭐               💖               \n",
      "                    ⭐                💖              \n",
      "                     ⭐              💖              \n",
      "                    ⭐              💖                \n",
      "                   ⭐              💖                  \n",
      "                    ⭐              💖                \n",
      "                   ⭐              💖                  \n",
      "                  ⭐              💖                    \n",
      "                 ⭐              💖                      \n",
      "                ⭐              💖                        \n",
      "                 ⭐             💖                       \n",
      "                  ⭐           💖                       \n",
      "                  ⭐          💖                        \n",
      "                 ⭐            💖                        \n",
      "                  ⭐           💖                       \n",
      "                  ⭐          💖                        \n",
      "                   ⭐         💖                       \n",
      "                  ⭐           💖                       \n",
      "                 ⭐           💖                         \n",
      "                 ⭐            💖                        \n",
      "                 ⭐             💖                       \n",
      "                ⭐              💖                        \n",
      "               ⭐                💖                        \n",
      "              ⭐                💖                          \n",
      "             ⭐                  💖                          \n",
      "⭐💖💖💖💖⭐⭐💖💖⭐⭐⭐💖💖💖⭐⭐⭐⭐⭐⭐⭐⭐⭐⭐💖💖⭐\n",
      "⭐⭐💖💖⭐⭐⭐💖⭐💖💖⭐⭐💖💖⭐💖⭐⭐💖💖⭐💖⭐⭐💖💖⭐\n",
      "⭐💖💖💖⭐💖💖💖💖⭐💖⭐⭐💖⭐💖⭐💖⭐⭐💖⭐⭐💖💖💖⭐💖\n",
      "◌◌◌◌◌◌◌◌◌◌◌◌◌◌◌◌◌◌◌◌◌◌◌◌◌◌◌◌◌◌◌◌◌◌◌◌◌◌◌◌◌◌◌◌◌◌◌◌◌◌◌◌◌◌◌◌◌◌◌◌◌◌◌◌◌◌◌◌◌◌\n",
      "◌_____°___°____________________________________________________°_____◌\n",
      "◌____°________________°🪐AI club luôn welcome🪐_°___________________◌\n",
      "◌_____°_____________________°___________°_____°_________°___°______°_◌\n",
      "◌◌◌◌◌◌◌◌◌◌◌◌◌◌◌◌◌◌◌◌◌◌◌◌◌◌◌◌◌◌◌◌◌◌◌◌◌◌◌◌◌◌◌◌◌◌◌◌◌◌◌◌◌◌◌◌◌◌◌◌◌◌◌◌◌◌◌◌◌◌\n"
     ]
    }
   ],
   "source": [
    "from time import sleep\n",
    "from random import randint\n",
    "\n",
    "height = 30\n",
    "width = 70\n",
    "index = 20\n",
    "index2 = 35\n",
    "\n",
    "name = input(\"Nhập tên của bạn: \")\n",
    "name = '🪐' + name + '🪐'\n",
    "for i in range(height):\n",
    "    sleep(0.1) # Câu lệnh sleep này để tạm dừng vòng lặp trong 0.1s\n",
    "    if i <= 3:\n",
    "        for j in range(width):\n",
    "            \n",
    "            if randint(0, 1) == 1: # Hàm này sẽ trả về ngẫu nhiên giá trị 0 hoặc 1\n",
    "                print('_', end = \"\")\n",
    "            else:\n",
    "                print('*', end = \"\")\n",
    "        print()\n",
    "\n",
    "    if i > 3:\n",
    "        down1 = min(index, index2)\n",
    "        down2 = max(index, index2)\n",
    "        print(' '*(down1) + '⭐' + ' ' *(down2 - down1) + '💖' + ' ' * max(width - index2 - index, 0))\n",
    "        index += randint(-1, 1)\n",
    "        index2 += randint(-1, 1)\n",
    "\n",
    "for i in range(3):\n",
    "    sleep(0.5)\n",
    "    for j in range(28):\n",
    "        if randint(0, 1):\n",
    "            print('⭐', end = \"\")\n",
    "        else:\n",
    "            print('💖', end = \"\")\n",
    "    print()\n",
    "\n",
    "height = 5 \n",
    "draw_name = False\n",
    "\n",
    "\n",
    "for i in range(height):\n",
    "    for j in range(width):\n",
    "        if i == 0 or i == height - 1 or j == 0 or j == width - 1:\n",
    "            print(\"◌\", end=\"\")\n",
    "        elif i == height // 2 and j >= (width - len(name) - 2) // 2 and j < (width + len(name) - 2) // 2 and draw_name == False:\n",
    "            draw_name = True\n",
    "            print(name, end=\"\")\n",
    "        elif i == height // 2 and j == width - len(name) - 3:\n",
    "            print(\"◌\", end = \"\")\n",
    "            break\n",
    "        else:\n",
    "            if randint(0, 10): # Hàm này sẽ trả về ngẫu nhiên giá trị 0 đến 10\n",
    "                print(\"_\", end=\"\")\n",
    "            else:\n",
    "                print(\"°\", end = \"\")\n",
    "            \n",
    "    print()\n",
    "\n",
    "    \n",
    "\n"
   ]
  },
  {
   "attachments": {
    "image.png": {
     "image/png": "[encoded data removed]"
    }
   },
   "cell_type": "markdown",
   "id": "8ce8fb67",
   "metadata": {},
   "source": [
    "### Bài tập ôn luyện\n",
    "![image.png](attachment:image.png)"
   ]
  },
  {
   "cell_type": "markdown",
   "id": "e20e1388",
   "metadata": {},
   "source": [
    "Hình 1"
   ]
  },
  {
   "cell_type": "code",
   "execution_count": 7,
   "id": "1f2749ce",
   "metadata": {},
   "outputs": [
    {
     "name": "stdout",
     "output_type": "stream",
     "text": [
      "5\n",
      "1\n",
      "12\n",
      "123\n",
      "1234\n",
      "12345\n"
     ]
    }
   ],
   "source": [
    "chieudai=chieurong = int(input())\n",
    "for i in range(chieudai):\n",
    "    for j in range(chieurong):\n",
    "        if j<=i:\n",
    "            print(f\"{j+1}\", end =\"\")\n",
    "    print(\"\")"
   ]
  },
  {
   "cell_type": "code",
   "execution_count": 21,
   "id": "9945c451",
   "metadata": {
    "scrolled": true
   },
   "outputs": [
    {
     "name": "stdout",
     "output_type": "stream",
     "text": [
      "9\n",
      "1\n",
      "12\n",
      "123\n",
      "1234\n",
      "12345\n",
      "123456\n",
      "1234567\n",
      "12345678\n",
      "123456789\n"
     ]
    }
   ],
   "source": [
    "n = int(input())\n",
    "for i in range(1, n+1):\n",
    "    for j in range(1, i+1):\n",
    "        print(j, end = \"\")\n",
    "    print()"
   ]
  },
  {
   "cell_type": "markdown",
   "id": "29844e36",
   "metadata": {},
   "source": [
    "Hình 2"
   ]
  },
  {
   "cell_type": "code",
   "execution_count": 27,
   "id": "cbc7fab1",
   "metadata": {},
   "outputs": [
    {
     "name": "stdout",
     "output_type": "stream",
     "text": [
      "    1\n",
      "   123\n",
      "  12345\n",
      " 1234567\n",
      "123456789\n"
     ]
    }
   ],
   "source": [
    "space = 4\n",
    "n = 1\n",
    "while space >= 0:\n",
    "    print(\" \" * space, end ='')\n",
    "    for i in range(1, n + 1):\n",
    "        print(\"{}\".format(i), end = '')\n",
    "    space -= 1\n",
    "    n += 2\n",
    "    print()"
   ]
  },
  {
   "cell_type": "markdown",
   "id": "c4003dae",
   "metadata": {},
   "source": [
    "Hình 3"
   ]
  },
  {
   "cell_type": "code",
   "execution_count": 24,
   "id": "eec75bd2",
   "metadata": {},
   "outputs": [
    {
     "name": "stdout",
     "output_type": "stream",
     "text": [
      "1  2  3  4  5  \n",
      "1  2  3  4  5  \n",
      "1  2  3  4  5  \n",
      "1  2  3  4  5  \n",
      "1  2  3  4  5  \n"
     ]
    }
   ],
   "source": [
    "for i in range(1, 5+1):\n",
    "    for j in range(1, 5+1):\n",
    "        print(j,\" \", end = \"\")\n",
    "    print()"
   ]
  },
  {
   "cell_type": "markdown",
   "id": "a8093f33",
   "metadata": {},
   "source": [
    "#### Code hình 4"
   ]
  },
  {
   "cell_type": "code",
   "execution_count": 54,
   "id": "75c94522",
   "metadata": {},
   "outputs": [
    {
     "name": "stdout",
     "output_type": "stream",
     "text": [
      "   1\n",
      "  123\n",
      " 12345\n",
      "1234567\n",
      " 12345\n",
      "  123\n",
      "   1\n"
     ]
    }
   ],
   "source": [
    "number = 1\n",
    "space = 3\n",
    "for i in range(4):\n",
    "    print(\" \"*space, end = \"\")\n",
    "    for j in range(1, number+1):\n",
    "        print(j, end = \"\")\n",
    "    number += 2\n",
    "    space -= 1\n",
    "    print()\n",
    "space += 2\n",
    "number -= 4\n",
    "for i in range(3):\n",
    "    print(\" \"*space, end = \"\")\n",
    "    for j in range(1, number + 1):\n",
    "        print(j, end = \"\")\n",
    "    number -= 2\n",
    "    space += 1\n",
    "    print()"
   ]
  },
  {
   "cell_type": "markdown",
   "id": "362263a8",
   "metadata": {},
   "source": [
    "#### Code Hình 5"
   ]
  },
  {
   "cell_type": "code",
   "execution_count": 55,
   "id": "64044d91",
   "metadata": {},
   "outputs": [
    {
     "name": "stdout",
     "output_type": "stream",
     "text": [
      "1234567\n",
      " 12345\n",
      "  123\n",
      "   1\n",
      "  123\n",
      " 12345\n",
      "1234567\n"
     ]
    }
   ],
   "source": [
    "number = 7\n",
    "space = 0\n",
    "\n",
    "for i in range(3):\n",
    "    print(\" \"*space, end = \"\")\n",
    "    for j in range(1, number + 1):\n",
    "        print(j, end = \"\")\n",
    "    number -= 2\n",
    "    space += 1\n",
    "    print()\n",
    "\n",
    "for i in range(4):\n",
    "    print(\" \"*space, end = \"\")\n",
    "    for j in range(1, number+1):\n",
    "        print(j, end = \"\")\n",
    "    number += 2\n",
    "    space -= 1\n",
    "    print()\n",
    "space += 2\n",
    "number -= 4\n"
   ]
  },
  {
   "cell_type": "markdown",
   "id": "abb11729",
   "metadata": {},
   "source": [
    "*Chúc các em học vui vẻ:))*"
   ]
  },
  {
   "cell_type": "code",
   "execution_count": null,
   "id": "60cdef19",
   "metadata": {},
   "outputs": [],
   "source": []
  }
 ],
 "metadata": {
  "kernelspec": {
   "display_name": "Python 3 (ipykernel)",
   "language": "python",
   "name": "python3"
  },
  "language_info": {
   "codemirror_mode": {
    "name": "ipython",
    "version": 3
   },
   "file_extension": ".py",
   "mimetype": "text/x-python",
   "name": "python",
   "nbconvert_exporter": "python",
   "pygments_lexer": "ipython3",
   "version": "3.9.13"
  }
 },
 "nbformat": 4,
 "nbformat_minor": 5
}
