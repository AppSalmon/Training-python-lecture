{
 "cells": [
  {
   "cell_type": "markdown",
   "id": "103d533e",
   "metadata": {},
   "source": [
    "# Bài giảng python buổi 1"
   ]
  },
  {
   "cell_type": "markdown",
   "id": "841473bf",
   "metadata": {},
   "source": [
    "Kiến thức về biến"
   ]
  },
  {
   "cell_type": "code",
   "execution_count": 15,
   "id": "da0e47a8",
   "metadata": {},
   "outputs": [],
   "source": [
    "# Tạo biến\n",
    "a = 3\n",
    "b = 3.555\n",
    "c = 'abc'\n",
    "d = \"cdf\"\n",
    "a1, a2 = 6, 7\n",
    "b1, b2, b3 = 0, 1, 2"
   ]
  },
  {
   "cell_type": "markdown",
   "id": "88f5f78e",
   "metadata": {},
   "source": [
    "Kiến thức về print"
   ]
  },
  {
   "cell_type": "code",
   "execution_count": 29,
   "id": "4646b44f",
   "metadata": {},
   "outputs": [
    {
     "name": "stdout",
     "output_type": "stream",
     "text": [
      "6 7 0 1 2\n",
      "Biến a có giá trị là: 3\n",
      "Biến b có giá trị là: 3.555 Biến a có giá trị là: 3\n"
     ]
    }
   ],
   "source": [
    "# Cách 1\n",
    "print(a1, a2, b1, b2, b3)\n",
    "print(\"Biến a có giá trị là:\", a)\n",
    "print(\"Biến b có giá trị là:\", b, \"Biến a có giá trị là:\", a)\n"
   ]
  },
  {
   "cell_type": "code",
   "execution_count": 30,
   "id": "6e88494b",
   "metadata": {},
   "outputs": [],
   "source": [
    "string = \"Biến này có giá trị là: \" + str(a) # ép kiểu int về string cho biến a"
   ]
  },
  {
   "cell_type": "code",
   "execution_count": 31,
   "id": "764f5e1b",
   "metadata": {},
   "outputs": [
    {
     "data": {
      "text/plain": [
       "'Biến này có giá trị là: 3'"
      ]
     },
     "execution_count": 31,
     "metadata": {},
     "output_type": "execute_result"
    }
   ],
   "source": [
    "# Cách 2\n",
    "string"
   ]
  },
  {
   "cell_type": "code",
   "execution_count": 32,
   "id": "ec9ad9e3",
   "metadata": {},
   "outputs": [
    {
     "name": "stdout",
     "output_type": "stream",
     "text": [
      "Biến này có giá trị là: 3\n"
     ]
    }
   ],
   "source": [
    "# Cách 3\n",
    "print(\"Biến này có giá trị là: \" + str(a))"
   ]
  },
  {
   "cell_type": "code",
   "execution_count": 33,
   "id": "034e26ab",
   "metadata": {},
   "outputs": [
    {
     "name": "stdout",
     "output_type": "stream",
     "text": [
      "Biến này có giá trị là: 3, biến này có gtr là 3.555\n"
     ]
    }
   ],
   "source": [
    "# Cách 4\n",
    "print(f\"Biến này có giá trị là: {a}, biến này có gtr là {b}\")"
   ]
  },
  {
   "cell_type": "code",
   "execution_count": 35,
   "id": "5545c84b",
   "metadata": {},
   "outputs": [],
   "source": [
    "a1 = 2"
   ]
  },
  {
   "cell_type": "markdown",
   "id": "8fbbda57",
   "metadata": {},
   "source": [
    "Kiến thức về toán tử"
   ]
  },
  {
   "cell_type": "code",
   "execution_count": 37,
   "id": "9d710822",
   "metadata": {},
   "outputs": [],
   "source": [
    "a = 3\n",
    "b = 2"
   ]
  },
  {
   "cell_type": "code",
   "execution_count": 38,
   "id": "c33374e8",
   "metadata": {},
   "outputs": [
    {
     "data": {
      "text/plain": [
       "1.5"
      ]
     },
     "execution_count": 38,
     "metadata": {},
     "output_type": "execute_result"
    }
   ],
   "source": [
    "a / b"
   ]
  },
  {
   "cell_type": "code",
   "execution_count": 39,
   "id": "cf91ee43",
   "metadata": {},
   "outputs": [
    {
     "data": {
      "text/plain": [
       "1"
      ]
     },
     "execution_count": 39,
     "metadata": {},
     "output_type": "execute_result"
    }
   ],
   "source": [
    "a % b"
   ]
  },
  {
   "cell_type": "code",
   "execution_count": 40,
   "id": "e34c8ff0",
   "metadata": {},
   "outputs": [
    {
     "data": {
      "text/plain": [
       "2"
      ]
     },
     "execution_count": 40,
     "metadata": {},
     "output_type": "execute_result"
    }
   ],
   "source": [
    "5 // 2"
   ]
  },
  {
   "cell_type": "code",
   "execution_count": 41,
   "id": "c8efa975",
   "metadata": {},
   "outputs": [
    {
     "data": {
      "text/plain": [
       "1"
      ]
     },
     "execution_count": 41,
     "metadata": {},
     "output_type": "execute_result"
    }
   ],
   "source": [
    "5 // 2 // 2"
   ]
  },
  {
   "cell_type": "markdown",
   "id": "ab360993",
   "metadata": {},
   "source": [
    "Nhập dữ liệu từ bàn phím"
   ]
  },
  {
   "cell_type": "code",
   "execution_count": 45,
   "id": "7a749315",
   "metadata": {},
   "outputs": [
    {
     "name": "stdout",
     "output_type": "stream",
     "text": [
      "2\n"
     ]
    }
   ],
   "source": [
    "a = input()"
   ]
  },
  {
   "cell_type": "code",
   "execution_count": 43,
   "id": "5b3b8bcf",
   "metadata": {},
   "outputs": [
    {
     "data": {
      "text/plain": [
       "'2'"
      ]
     },
     "execution_count": 43,
     "metadata": {},
     "output_type": "execute_result"
    }
   ],
   "source": [
    "a"
   ]
  },
  {
   "cell_type": "code",
   "execution_count": 47,
   "id": "fcdda108",
   "metadata": {},
   "outputs": [
    {
     "name": "stdout",
     "output_type": "stream",
     "text": [
      "nhập a: a\n"
     ]
    }
   ],
   "source": [
    "a = input(\"nhập a: \")"
   ]
  },
  {
   "cell_type": "markdown",
   "id": "d2cf596d",
   "metadata": {},
   "source": [
    "#### Bài tập\n",
    "Nhập 3 số nguyên a, b, c và tính tổng, hiệu bình phương của 3 số đó, và in ra màn hình"
   ]
  },
  {
   "cell_type": "code",
   "execution_count": 48,
   "id": "953f1a34",
   "metadata": {},
   "outputs": [
    {
     "name": "stdout",
     "output_type": "stream",
     "text": [
      "1 2 3\n"
     ]
    }
   ],
   "source": []
  },
  {
   "cell_type": "markdown",
   "id": "84874003",
   "metadata": {},
   "source": [
    "2 nguồn bạn có thể học python:\n",
    "- Codelearn.io\n",
    "- w3school\n",
    "- geek"
   ]
  },
  {
   "cell_type": "code",
   "execution_count": 14,
   "id": "476b5f9a",
   "metadata": {},
   "outputs": [
    {
     "name": "stdout",
     "output_type": "stream",
     "text": [
      "1 2 3\n"
     ]
    }
   ],
   "source": [
    "a = input()"
   ]
  },
  {
   "cell_type": "code",
   "execution_count": 20,
   "id": "dc1e3a22",
   "metadata": {},
   "outputs": [
    {
     "data": {
      "text/plain": [
       "'1 2 3'"
      ]
     },
     "execution_count": 20,
     "metadata": {},
     "output_type": "execute_result"
    }
   ],
   "source": [
    "a"
   ]
  },
  {
   "cell_type": "code",
   "execution_count": 21,
   "id": "0a2b59fe",
   "metadata": {},
   "outputs": [
    {
     "data": {
      "text/plain": [
       "['1', '2', '3']"
      ]
     },
     "execution_count": 21,
     "metadata": {},
     "output_type": "execute_result"
    }
   ],
   "source": [
    "a.split()"
   ]
  },
  {
   "cell_type": "code",
   "execution_count": 26,
   "id": "30dc9a86",
   "metadata": {},
   "outputs": [
    {
     "name": "stdout",
     "output_type": "stream",
     "text": [
      "1 2 3\n"
     ]
    }
   ],
   "source": [
    "a, b, c = map(int, input().split()) # Để nhập dữ liệu trong một dòng"
   ]
  },
  {
   "cell_type": "code",
   "execution_count": 27,
   "id": "25c0a5c1",
   "metadata": {},
   "outputs": [
    {
     "data": {
      "text/plain": [
       "(1, 2, 3)"
      ]
     },
     "execution_count": 27,
     "metadata": {},
     "output_type": "execute_result"
    }
   ],
   "source": [
    "a, b, c"
   ]
  },
  {
   "cell_type": "markdown",
   "id": "fb085d1c",
   "metadata": {},
   "source": [
    "Kiến thức về toán tử luận lý"
   ]
  },
  {
   "cell_type": "code",
   "execution_count": 30,
   "id": "41bfac09",
   "metadata": {},
   "outputs": [
    {
     "data": {
      "text/plain": [
       "1"
      ]
     },
     "execution_count": 30,
     "metadata": {},
     "output_type": "execute_result"
    }
   ],
   "source": [
    "a = 1\n",
    "b = 0\n",
    "c = a or b\n",
    "c"
   ]
  },
  {
   "cell_type": "code",
   "execution_count": 31,
   "id": "c4c2ebfa",
   "metadata": {},
   "outputs": [
    {
     "data": {
      "text/plain": [
       "False"
      ]
     },
     "execution_count": 31,
     "metadata": {},
     "output_type": "execute_result"
    }
   ],
   "source": [
    "not a"
   ]
  },
  {
   "cell_type": "code",
   "execution_count": 36,
   "id": "ae155dd4",
   "metadata": {},
   "outputs": [
    {
     "data": {
      "text/plain": [
       "False"
      ]
     },
     "execution_count": 36,
     "metadata": {},
     "output_type": "execute_result"
    }
   ],
   "source": [
    "a = 1\n",
    "b = 2\n",
    "\n",
    "a > b"
   ]
  },
  {
   "cell_type": "code",
   "execution_count": 37,
   "id": "b9d6b942",
   "metadata": {},
   "outputs": [
    {
     "data": {
      "text/plain": [
       "True"
      ]
     },
     "execution_count": 37,
     "metadata": {},
     "output_type": "execute_result"
    }
   ],
   "source": [
    "a < b"
   ]
  },
  {
   "cell_type": "code",
   "execution_count": 38,
   "id": "5d9eaf72",
   "metadata": {},
   "outputs": [
    {
     "data": {
      "text/plain": [
       "False"
      ]
     },
     "execution_count": 38,
     "metadata": {},
     "output_type": "execute_result"
    }
   ],
   "source": [
    "a == b"
   ]
  },
  {
   "cell_type": "code",
   "execution_count": 39,
   "id": "05219be8",
   "metadata": {},
   "outputs": [
    {
     "data": {
      "text/plain": [
       "True"
      ]
     },
     "execution_count": 39,
     "metadata": {},
     "output_type": "execute_result"
    }
   ],
   "source": [
    "a <= b"
   ]
  },
  {
   "cell_type": "code",
   "execution_count": 40,
   "id": "1213dca5",
   "metadata": {},
   "outputs": [
    {
     "data": {
      "text/plain": [
       "True"
      ]
     },
     "execution_count": 40,
     "metadata": {},
     "output_type": "execute_result"
    }
   ],
   "source": [
    "a != b"
   ]
  },
  {
   "cell_type": "code",
   "execution_count": 41,
   "id": "3e975eea",
   "metadata": {},
   "outputs": [
    {
     "data": {
      "text/plain": [
       "False"
      ]
     },
     "execution_count": 41,
     "metadata": {},
     "output_type": "execute_result"
    }
   ],
   "source": [
    "c = 1\n",
    "c != a"
   ]
  },
  {
   "cell_type": "markdown",
   "id": "9779a090",
   "metadata": {},
   "source": [
    "Câu lệnh rẽ nhánh"
   ]
  },
  {
   "cell_type": "code",
   "execution_count": 42,
   "id": "7164ba82",
   "metadata": {},
   "outputs": [
    {
     "name": "stdout",
     "output_type": "stream",
     "text": [
      "Nếu điều kiện if đúng thì chạy câu lệnh này\n"
     ]
    }
   ],
   "source": [
    "check = True\n",
    "if check == True:\n",
    "    print(\"Nếu điều kiện if đúng thì chạy câu lệnh này\")"
   ]
  },
  {
   "cell_type": "code",
   "execution_count": 45,
   "id": "ff5833e9",
   "metadata": {},
   "outputs": [
    {
     "name": "stdout",
     "output_type": "stream",
     "text": [
      "Nếu if sai thì thực hiện dòng này\n"
     ]
    }
   ],
   "source": [
    "check = False\n",
    "if check == True:\n",
    "    print(\"Nếu điều kiện if đúng thì chạy câu lệnh này\")\n",
    "else:\n",
    "    print(\"Nếu if sai thì thực hiện dòng này\")\n",
    "    "
   ]
  },
  {
   "cell_type": "code",
   "execution_count": 49,
   "id": "484748d4",
   "metadata": {},
   "outputs": [
    {
     "name": "stdout",
     "output_type": "stream",
     "text": [
      "0\n"
     ]
    }
   ],
   "source": [
    "number = 0\n",
    "if number > 0:\n",
    "    print(\"Lớn\")\n",
    "elif number == 0:\n",
    "    print(\"0\")\n",
    "else:\n",
    "    print('Phần còn lại')"
   ]
  },
  {
   "cell_type": "code",
   "execution_count": 55,
   "id": "dab6492b",
   "metadata": {},
   "outputs": [
    {
     "name": "stdout",
     "output_type": "stream",
     "text": [
      "Phần còn lại\n"
     ]
    }
   ],
   "source": [
    "a = 11\n",
    "if a == 1 or a == 5:\n",
    "    print(\"a bằng 1 hoặc 5\")\n",
    "elif a > 0 and a % 5 == 0:\n",
    "    print(\"Điều kiện trên đúng\")\n",
    "else:\n",
    "    print(\"Phần còn lại\")"
   ]
  },
  {
   "cell_type": "markdown",
   "id": "d09daa25",
   "metadata": {},
   "source": [
    "#### Bài tập\n",
    "Cho 2 số nguyên a,b (Với 1≤a,b≤10000). Hãy so sánh 2 số đó. Nếu a lớn hơn b thì ta xuất ra \">\". Nếu b lớn hơn a ta xuất ra \"<\". Nếu a bằng b ta xuất ra \"=\"."
   ]
  },
  {
   "cell_type": "code",
   "execution_count": null,
   "id": "7ae48eac",
   "metadata": {},
   "outputs": [],
   "source": []
  }
 ],
 "metadata": {
  "kernelspec": {
   "display_name": "Python 3 (ipykernel)",
   "language": "python",
   "name": "python3"
  },
  "language_info": {
   "codemirror_mode": {
    "name": "ipython",
    "version": 3
   },
   "file_extension": ".py",
   "mimetype": "text/x-python",
   "name": "python",
   "nbconvert_exporter": "python",
   "pygments_lexer": "ipython3",
   "version": "3.9.13"
  }
 },
 "nbformat": 4,
 "nbformat_minor": 5
}
